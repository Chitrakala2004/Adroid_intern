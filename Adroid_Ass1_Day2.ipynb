{
  "nbformat": 4,
  "nbformat_minor": 0,
  "metadata": {
    "colab": {
      "provenance": [],
      "authorship_tag": "ABX9TyMjdvn35SBO2i0B4+cLj3h4",
      "include_colab_link": true
    },
    "kernelspec": {
      "name": "python3",
      "display_name": "Python 3"
    },
    "language_info": {
      "name": "python"
    }
  },
  "cells": [
    {
      "cell_type": "markdown",
      "metadata": {
        "id": "view-in-github",
        "colab_type": "text"
      },
      "source": [
        "<a href=\"https://colab.research.google.com/github/Chitrakala2004/Adroid_intern/blob/main/Adroid_Ass1_Day2.ipynb\" target=\"_parent\"><img src=\"https://colab.research.google.com/assets/colab-badge.svg\" alt=\"Open In Colab\"/></a>"
      ]
    },
    {
      "cell_type": "code",
      "execution_count": 2,
      "metadata": {
        "colab": {
          "base_uri": "https://localhost:8080/"
        },
        "id": "THshveYnwAcI",
        "outputId": "3122ae9d-adf6-429b-beb7-a03685d576ee"
      },
      "outputs": [
        {
          "output_type": "stream",
          "name": "stdout",
          "text": [
            "List Values: [11, 12, 13, 14]\n",
            "List after adding 50 & 60: [11, 12, 13, 14, 50, 60]\n",
            "List after removing 11 & 13: [12, 14, 50, 60]\n",
            "List in ascending order: [12, 14, 50, 60]\n",
            "List in descending order: [60, 50, 14, 12]\n",
            "13 is not in L\n",
            "No.of elements in L: 4\n",
            "Sum of elements: 136\n",
            "Sum of odd numbers in List: 0\n",
            "Sum of even numbers in List: 136\n",
            "Sum of prime numbers in List: 0\n",
            "After clearing all elements in List: []\n",
            "List is deleted\n"
          ]
        }
      ],
      "source": [
        "L=[11,12,13,14]\n",
        "print(\"List Values:\",L)\n",
        "\n",
        "L.append(50)\n",
        "L.append(60)\n",
        "print(\"List after adding 50 & 60:\",L)\n",
        "\n",
        "L.remove(11)\n",
        "L.remove(13)\n",
        "print(\"List after removing 11 & 13:\",L)\n",
        "\n",
        "L.sort()\n",
        "print(\"List in ascending order:\",L)\n",
        "\n",
        "L.sort(reverse=True)\n",
        "print(\"List in descending order:\",L)\n",
        "\n",
        "search=13\n",
        "if search in L:\n",
        "  print(\"13 is in L\")\n",
        "else:\n",
        "  print(\"13 is not in L\")\n",
        "\n",
        "count=len(L)\n",
        "print(\"No.of elements in L:\",count)\n",
        "\n",
        "total= sum(L)\n",
        "print(\"Sum of elements:\",total)\n",
        "\n",
        "sum_odd = sum([num for num in L if num % 2 != 0])\n",
        "print(\"Sum of odd numbers in List:\", sum_odd)\n",
        "\n",
        "sum_even = sum([num for num in L if num % 2 == 0])\n",
        "print(\"Sum of even numbers in List:\", sum_even)\n",
        "\n",
        "def is_prime(n):\n",
        "    if n <= 1:\n",
        "        return False\n",
        "    if n == 2:\n",
        "        return True\n",
        "    if n % 2 == 0:\n",
        "        return False\n",
        "    i = 3\n",
        "    while i * i <= n:\n",
        "        if n % i == 0:\n",
        "            return False\n",
        "        i += 2\n",
        "    return True\n",
        "\n",
        "sum_prime = sum([num for num in L if is_prime(num)])\n",
        "print(\"Sum of prime numbers in List:\", sum_prime)\n",
        "\n",
        "L.clear()\n",
        "print(\"After clearing all elements in List:\", L)\n",
        "\n",
        "del L\n",
        "print(\"List is deleted\")\n"
      ]
    },
    {
      "cell_type": "code",
      "source": [
        "D = {1: 5.6, 2: 7.8, 3: 6.6, 4: 8.7, 5: 7.7}\n",
        "\n",
        "D[8] = 8.8\n",
        "print(\"Adding new entry in D:\", D)\n",
        "\n",
        "if 2 in D:\n",
        "    del D[2]\n",
        "    print(\"Removing key 2:\", D)\n",
        "else:\n",
        "    print(\"Key 2 not found in dictionary.\")\n",
        "\n",
        "if 6 in D:\n",
        "    print(\"Key 6 is present in dictionary.\")\n",
        "else:\n",
        "    print(\"Key 6 is not present in dictionary.\")\n",
        "\n",
        "count_elements = len(D)\n",
        "print(\"Number of elements in D:\", count_elements)\n",
        "\n",
        "total = sum(D.values())\n",
        "print(\"Sum of values in D:\", total)\n",
        "\n",
        "if 3 in D:\n",
        "    D[3] = 7.1\n",
        "    print(\"After updating value of key 3 to 7.1:\", D)\n",
        "else:\n",
        "    print(\"Key 3 not found in dictionary.\")\n",
        "\n",
        "D.clear()\n",
        "print(\"Clearing the dictionary, D:\", D)\n"
      ],
      "metadata": {
        "colab": {
          "base_uri": "https://localhost:8080/"
        },
        "id": "uv4y7Ze4x5rB",
        "outputId": "f65658c3-a68a-4c93-8012-7892ba8715ff"
      },
      "execution_count": 4,
      "outputs": [
        {
          "output_type": "stream",
          "name": "stdout",
          "text": [
            "Adding new entry in D: {1: 5.6, 2: 7.8, 3: 6.6, 4: 8.7, 5: 7.7, 8: 8.8}\n",
            "Removing key 2: {1: 5.6, 3: 6.6, 4: 8.7, 5: 7.7, 8: 8.8}\n",
            "Key 6 is not present in dictionary.\n",
            "Number of elements in D: 5\n",
            "Sum of values in D: 37.4\n",
            "After updating value of key 3 to 7.1: {1: 5.6, 3: 7.1, 4: 8.7, 5: 7.7, 8: 8.8}\n",
            "Clearing the dictionary, D: {}\n"
          ]
        }
      ]
    },
    {
      "cell_type": "code",
      "source": [
        "S1 = {10, 20, 30, 40, 50, 60}\n",
        "S2 = {40, 50, 60, 70, 80, 90}\n",
        "\n",
        "S1.add(55)\n",
        "S1.add(66)\n",
        "print(\"After adding 55 and 66 in S1:\", S1)\n",
        "\n",
        "S1.discard(10)\n",
        "S1.discard(30)\n",
        "print(\"After removing 10 and 30 from S1:\", S1)\n",
        "\n",
        "if 40 in S1:\n",
        "    print(\"40 is present in S1\")\n",
        "else:\n",
        "    print(\"40 is not present in S1\")\n",
        "\n",
        "union_set = S1.union(S2)\n",
        "print(\"Union of S1 and S2:\", union_set)\n",
        "\n",
        "intersection_set = S1.intersection(S2)\n",
        "print(\"Intersection of S1 and S2:\", intersection_set)\n",
        "\n",
        "difference_set = S1 - S2\n",
        "print(\"Difference of S1 and S2:\", difference_set)\n"
      ],
      "metadata": {
        "colab": {
          "base_uri": "https://localhost:8080/"
        },
        "id": "2P3iZD2jy1GR",
        "outputId": "8f22efed-4f04-4943-de5d-1d7740eb6951"
      },
      "execution_count": 6,
      "outputs": [
        {
          "output_type": "stream",
          "name": "stdout",
          "text": [
            "After adding 55 and 66 in S1: {50, 66, 20, 55, 40, 10, 60, 30}\n",
            "After removing 10 and 30 from S1: {50, 66, 20, 55, 40, 60}\n",
            "40 is present in S1\n",
            "Union of S1 and S2: {66, 70, 40, 80, 50, 20, 55, 90, 60}\n",
            "Intersection of S1 and S2: {40, 50, 60}\n",
            "Difference of S1 and S2: {66, 20, 55}\n"
          ]
        }
      ]
    },
    {
      "cell_type": "code",
      "source": [
        "import random\n",
        "import string\n",
        "\n",
        "def generate_random_string(length):\n",
        "    letters = string.ascii_lowercase\n",
        "    return ''.join(random.choice(letters) for _ in range(length))\n",
        "\n",
        "count = 100\n",
        "for _ in range(count):\n",
        "    length = random.randint(6, 8)\n",
        "    random_string = generate_random_string(length)\n",
        "    print(random_string)\n"
      ],
      "metadata": {
        "colab": {
          "base_uri": "https://localhost:8080/"
        },
        "id": "xP0OdNHnzr1M",
        "outputId": "96d7cd57-bc39-4548-a42b-61bb07fe5243"
      },
      "execution_count": 7,
      "outputs": [
        {
          "output_type": "stream",
          "name": "stdout",
          "text": [
            "idlecyi\n",
            "oyemub\n",
            "aflkft\n",
            "zogiro\n",
            "gqrroyq\n",
            "eswkmjjh\n",
            "leqhrn\n",
            "xnsrpql\n",
            "oojnps\n",
            "ultaarqt\n",
            "zgisdxwx\n",
            "rlwchxlo\n",
            "tmjfib\n",
            "vatgbfho\n",
            "utoorua\n",
            "nidhmzl\n",
            "mgrozop\n",
            "kmulln\n",
            "rkiarp\n",
            "jedwxtef\n",
            "xnsgci\n",
            "aytlgsyu\n",
            "ebndisq\n",
            "fwkbsq\n",
            "xwesbhlr\n",
            "mnbeodne\n",
            "hyfninn\n",
            "udrhli\n",
            "hjuhgue\n",
            "uhsjibgs\n",
            "bkxjsyl\n",
            "qllxbiya\n",
            "jjsspf\n",
            "ijmbeku\n",
            "myxqapzr\n",
            "vpztup\n",
            "zadesf\n",
            "cwyqcgui\n",
            "bvfwmk\n",
            "jmmvkbt\n",
            "tfcvor\n",
            "ddpbxi\n",
            "erjhfhv\n",
            "rjxkptnq\n",
            "whruxs\n",
            "ucruew\n",
            "ijzjcbc\n",
            "eqcrtuu\n",
            "cywwswd\n",
            "uckwccem\n",
            "ujxqdhh\n",
            "ezdvbv\n",
            "gbjdsgv\n",
            "sqpyoe\n",
            "ktwnyj\n",
            "hiisbq\n",
            "alqtlb\n",
            "ymrdxo\n",
            "leubdsw\n",
            "sjvxjd\n",
            "driuhe\n",
            "aupylmr\n",
            "efygpoj\n",
            "czvrssq\n",
            "ywxlhyb\n",
            "qngeobr\n",
            "gbvevmkq\n",
            "ijcgpohv\n",
            "xsrzwy\n",
            "xqcaxco\n",
            "luueadt\n",
            "wdjdhmz\n",
            "ftuthw\n",
            "otropqo\n",
            "yzesclvn\n",
            "fnutfcrc\n",
            "vgulwyvo\n",
            "zgfmltt\n",
            "huzxgd\n",
            "efavxwcv\n",
            "ltaovtx\n",
            "jcknpsxl\n",
            "idwayzje\n",
            "tgywnaig\n",
            "bcqasr\n",
            "eqtdkfl\n",
            "jgwwdxxb\n",
            "bdcejkd\n",
            "gfmmvxv\n",
            "joxsyuic\n",
            "oghrve\n",
            "oihhaci\n",
            "jnqlazn\n",
            "iyeeoxzg\n",
            "qgtybf\n",
            "qybendpe\n",
            "hlosuyrn\n",
            "eauvgdap\n",
            "yncmvzpi\n",
            "lccwzle\n"
          ]
        }
      ]
    },
    {
      "cell_type": "code",
      "source": [
        "def is_prime(num):\n",
        "    if num <= 1:\n",
        "        return False\n",
        "    if num == 2:\n",
        "        return True\n",
        "    if num % 2 == 0:\n",
        "        return False\n",
        "\n",
        "    for i in range(3, int(num**0.5) + 1, 2):\n",
        "        if num % i == 0:\n",
        "            return False\n",
        "    return True\n",
        "\n",
        "print(\"\\tPrime numbers between 600 and 800\")\n",
        "for num in range(600, 801):\n",
        "    if is_prime(num):\n",
        "        print(num)"
      ],
      "metadata": {
        "colab": {
          "base_uri": "https://localhost:8080/"
        },
        "id": "O5dxeywp0-cy",
        "outputId": "ddad1501-72f2-4e54-d205-a9c9d89c8a2f"
      },
      "execution_count": 12,
      "outputs": [
        {
          "output_type": "stream",
          "name": "stdout",
          "text": [
            "\tPrime numbers between 600 and 800\n",
            "601\n",
            "607\n",
            "613\n",
            "617\n",
            "619\n",
            "631\n",
            "641\n",
            "643\n",
            "647\n",
            "653\n",
            "659\n",
            "661\n",
            "673\n",
            "677\n",
            "683\n",
            "691\n",
            "701\n",
            "709\n",
            "719\n",
            "727\n",
            "733\n",
            "739\n",
            "743\n",
            "751\n",
            "757\n",
            "761\n",
            "769\n",
            "773\n",
            "787\n",
            "797\n"
          ]
        }
      ]
    },
    {
      "cell_type": "code",
      "source": [
        "print(\"Numbers between 100 and 1000 divisible by 7 and 9\")\n",
        "for num in range(100, 1001):\n",
        "    if num % 7 == 0 and num % 9 == 0:\n",
        "        print(num)\n"
      ],
      "metadata": {
        "colab": {
          "base_uri": "https://localhost:8080/"
        },
        "id": "INjYbUL51qqI",
        "outputId": "f1d425fc-3824-4eb7-95ee-67ba9b5899ac"
      },
      "execution_count": 14,
      "outputs": [
        {
          "output_type": "stream",
          "name": "stdout",
          "text": [
            "Numbers between 100 and 1000 divisible by 7 and 9\n",
            "126\n",
            "189\n",
            "252\n",
            "315\n",
            "378\n",
            "441\n",
            "504\n",
            "567\n",
            "630\n",
            "693\n",
            "756\n",
            "819\n",
            "882\n",
            "945\n"
          ]
        }
      ]
    },
    {
      "cell_type": "code",
      "source": [
        "import random\n",
        "def generate_random_list():\n",
        "    return [random.randint(10, 30) for _ in range(10)]\n",
        "\n",
        "list1 = generate_random_list()\n",
        "list2 = generate_random_list()\n",
        "\n",
        "print(\"List 1:\", list1)\n",
        "print(\"List 2:\", list2)\n",
        "\n",
        "common_numbers = list(set(list1).intersection(set(list2)))\n",
        "print(\"Common numbers:\", common_numbers)\n",
        "\n",
        "unique_list1 = list(set(list1) - set(list2))\n",
        "unique_list2 = list(set(list2) - set(list1))\n",
        "print(\"Unique numbers in List 1:\", unique_list1)\n",
        "print(\"Unique numbers in List 2:\", unique_list2)\n",
        "\n",
        "min_list1 = min(list1)\n",
        "min_list2 = min(list2)\n",
        "print(\"Minimum in List 1:\", min_list1)\n",
        "print(\"Minimum in List 2:\", min_list2)\n",
        "\n",
        "max_list1 = max(list1)\n",
        "max_list2 = max(list2)\n",
        "print(\"Maximum in List 1:\", max_list1)\n",
        "print(\"Maximum in List 2:\", max_list2)\n",
        "\n",
        "sum_list1 = sum(list1)\n",
        "sum_list2 = sum(list2)\n",
        "print(\"Sum of List 1:\", sum_list1)\n",
        "print(\"Sum of List 2:\", sum_list2)\n"
      ],
      "metadata": {
        "colab": {
          "base_uri": "https://localhost:8080/"
        },
        "id": "BORoYt5B2EMS",
        "outputId": "f960d81c-aab4-4ba0-a623-cbc7e032d0a2"
      },
      "execution_count": 17,
      "outputs": [
        {
          "output_type": "stream",
          "name": "stdout",
          "text": [
            "List 1: [27, 14, 21, 14, 24, 27, 25, 19, 27, 10]\n",
            "List 2: [28, 12, 16, 14, 13, 17, 19, 24, 24, 14]\n",
            "Common numbers: [24, 19, 14]\n",
            "Unique numbers in List 1: [25, 10, 27, 21]\n",
            "Unique numbers in List 2: [12, 13, 16, 17, 28]\n",
            "Minimum in List 1: 10\n",
            "Minimum in List 2: 12\n",
            "Maximum in List 1: 27\n",
            "Maximum in List 2: 28\n",
            "Sum of List 1: 208\n",
            "Sum of List 2: 181\n"
          ]
        }
      ]
    },
    {
      "cell_type": "code",
      "source": [
        "import random\n",
        "def is_prime(num):\n",
        "    if num < 2:\n",
        "        return False\n",
        "    if num == 2:\n",
        "        return True\n",
        "    if num % 2 == 0:\n",
        "        return False\n",
        "    for i in range(3, int(num**0.5) + 1, 2):\n",
        "        if num % i == 0:\n",
        "            return False\n",
        "    return True\n",
        "\n",
        "random_numbers = [random.randint(100, 900) for _ in range(100)]\n",
        "\n",
        "odd_numbers = []\n",
        "even_numbers = []\n",
        "prime_numbers = []\n",
        "\n",
        "for number in random_numbers:\n",
        "    if number % 2 == 0:\n",
        "        even_numbers.append(number)\n",
        "    else:\n",
        "        odd_numbers.append(number)\n",
        "\n",
        "    if is_prime(number):\n",
        "        prime_numbers.append(number)\n",
        "\n",
        "print(\"List of 100 random numbers between 100 and 900:\")\n",
        "print(random_numbers)\n",
        "print()\n",
        "\n",
        "print(\"All odd numbers:\",odd_numbers)\n",
        "print()\n",
        "\n",
        "print(\"All even numbers:\",even_numbers)\n",
        "print()\n",
        "\n",
        "print(\"All prime numbers:\",prime_numbers)"
      ],
      "metadata": {
        "colab": {
          "base_uri": "https://localhost:8080/"
        },
        "id": "k78687QC22NV",
        "outputId": "bc17d789-90b9-4dd0-d469-25a6d6f7c75d"
      },
      "execution_count": 20,
      "outputs": [
        {
          "output_type": "stream",
          "name": "stdout",
          "text": [
            "List of 100 random numbers between 100 and 900:\n",
            "[648, 511, 802, 130, 116, 567, 619, 245, 359, 669, 210, 250, 638, 652, 766, 653, 612, 217, 712, 566, 222, 864, 401, 360, 623, 818, 333, 683, 747, 622, 215, 324, 784, 249, 128, 151, 675, 385, 695, 696, 190, 444, 289, 486, 584, 594, 448, 485, 710, 501, 482, 374, 626, 394, 843, 339, 723, 201, 619, 462, 155, 280, 376, 755, 248, 297, 777, 841, 618, 748, 883, 126, 186, 868, 733, 429, 769, 187, 488, 610, 109, 306, 899, 409, 716, 207, 526, 738, 230, 389, 427, 645, 819, 474, 754, 126, 588, 237, 802, 539]\n",
            "\n",
            "All odd numbers: [511, 567, 619, 245, 359, 669, 653, 217, 401, 623, 333, 683, 747, 215, 249, 151, 675, 385, 695, 289, 485, 501, 843, 339, 723, 201, 619, 155, 755, 297, 777, 841, 883, 733, 429, 769, 187, 109, 899, 409, 207, 389, 427, 645, 819, 237, 539]\n",
            "\n",
            "All even numbers: [648, 802, 130, 116, 210, 250, 638, 652, 766, 612, 712, 566, 222, 864, 360, 818, 622, 324, 784, 128, 696, 190, 444, 486, 584, 594, 448, 710, 482, 374, 626, 394, 462, 280, 376, 248, 618, 748, 126, 186, 868, 488, 610, 306, 716, 526, 738, 230, 474, 754, 126, 588, 802]\n",
            "\n",
            "All prime numbers: [619, 359, 653, 401, 683, 151, 619, 883, 733, 769, 109, 409, 389]\n"
          ]
        }
      ]
    },
    {
      "cell_type": "code",
      "source": [
        "D = {1: \"One\", 2: \"Two\", 3: \"Three\", 4: \"Four\", 5: \"Five\"}\n",
        "\n",
        "with open('dictionary_output.txt', 'w') as file:\n",
        "  for key, value in D.items():\n",
        "    file.write(f\"{key}, {value}\\n\")\n",
        "\n",
        "print(\"Data written successfully\")\n"
      ],
      "metadata": {
        "colab": {
          "base_uri": "https://localhost:8080/"
        },
        "id": "8CKAHges3inx",
        "outputId": "9391e006-2da6-48bc-99d4-83175b2fbfe8"
      },
      "execution_count": 22,
      "outputs": [
        {
          "output_type": "stream",
          "name": "stdout",
          "text": [
            "Data written successfully\n"
          ]
        }
      ]
    },
    {
      "cell_type": "code",
      "source": [
        "L = [\"One\", \"Two\", \"Three\", \"Four\", \"Five\"]\n",
        "\n",
        "with open('list_output.txt', 'w') as file:\n",
        "    for item in L:\n",
        "        length = len(item)\n",
        "        file.write(f\"{item}, {length}\\n\")\n",
        "print(\"Data written successfully\")\n"
      ],
      "metadata": {
        "colab": {
          "base_uri": "https://localhost:8080/"
        },
        "id": "8uRYSOp23yRI",
        "outputId": "00a00eda-61d5-4dad-c71a-03e0d982ccb0"
      },
      "execution_count": 23,
      "outputs": [
        {
          "output_type": "stream",
          "name": "stdout",
          "text": [
            "Data written successfully\n"
          ]
        }
      ]
    },
    {
      "cell_type": "code",
      "source": [
        "import random\n",
        "import string\n",
        "\n",
        "with open(\"random_strings.txt\", \"w\") as f:\n",
        "    for _ in range(100):\n",
        "        length = random.randint(10, 15)\n",
        "        random_string = ''.join(random.choice(string.ascii_letters + string.digits) for _ in range(length))\n",
        "        f.write(random_string + \"\\n\")"
      ],
      "metadata": {
        "id": "vMCv1Tbs4Cxk"
      },
      "execution_count": 24,
      "outputs": []
    },
    {
      "cell_type": "code",
      "source": [
        "def is_prime(n):\n",
        "    if n <= 1:\n",
        "        return False\n",
        "    if n <= 3:\n",
        "        return True\n",
        "    if n % 2 == 0 or n % 3 == 0:\n",
        "        return False\n",
        "    i = 5\n",
        "    while i * i <= n:\n",
        "        if n % i == 0 or n % (i + 2) == 0:\n",
        "            return False\n",
        "        i += 6\n",
        "    return True\n",
        "\n",
        "with open(\"prime_numbers.txt\", \"w\") as f:\n",
        "    for num in range(600, 801):\n",
        "        if is_prime(num):\n",
        "            f.write(f\"{num}\\n\")\n"
      ],
      "metadata": {
        "id": "B0gZ5yG84F0p"
      },
      "execution_count": 25,
      "outputs": []
    },
    {
      "cell_type": "code",
      "source": [
        "import time\n",
        "start_time = time.time()\n",
        "\n",
        "def is_prime(n):\n",
        "    if n <= 1:\n",
        "        return False\n",
        "    if n <= 3:\n",
        "        return True\n",
        "    if n % 2 == 0 or n % 3 == 0:\n",
        "        return False\n",
        "    i = 5\n",
        "    while i * i <= n:\n",
        "        if n % i == 0 or n % (i + 2) == 0:\n",
        "            return False\n",
        "        i += 6\n",
        "    return True\n",
        "\n",
        "prime_sum = 0\n",
        "for num in range(600, 801):\n",
        "    if is_prime(num):\n",
        "        prime_sum += num\n",
        "\n",
        "print(\"Sum of prime numbers between 600 and 800:\", prime_sum)\n",
        "\n",
        "end_time = time.time()\n",
        "elapsed_time = end_time - start_time\n",
        "print(f\"Time taken to execute the program: {elapsed_time:.4f} seconds\")"
      ],
      "metadata": {
        "id": "X3OOOpys4Kie"
      },
      "execution_count": null,
      "outputs": []
    },
    {
      "cell_type": "code",
      "source": [
        "import time\n",
        "import random\n",
        "import matplotlib.pyplot as plt\n",
        "\n",
        "def time_sort(size):\n",
        "    lst = [random.randint(0, 1000000) for _ in range(size)]\n",
        "    start_time = time.time()\n",
        "\n",
        "    lst.sort()\n",
        "\n",
        "    end_time = time.time()\n",
        "\n",
        "    elapsed_time = end_time - start_time\n",
        "\n",
        "    return elapsed_time\n",
        "\n",
        "sizes = [5000, 10000, 15000, 20000, 25000]\n",
        "times = []\n",
        "\n",
        "for size in sizes:\n",
        "    t = time_sort(size)\n",
        "    times.append(t)\n",
        "    print(f\"Time taken to sort list of size {size}: {t:.4f} seconds\")\n",
        "\n",
        "plt.figure(figsize=(10, 6))\n",
        "plt.plot(sizes, times, marker='*',color='red')\n",
        "plt.title('Time taken to sort lists of different sizes')\n",
        "plt.xlabel('Number of elements in list')\n",
        "plt.ylabel('Time taken (seconds)')\n",
        "plt.grid(True)\n",
        "plt.show()"
      ],
      "metadata": {
        "colab": {
          "base_uri": "https://localhost:8080/",
          "height": 651
        },
        "id": "W1JlNMrC4On1",
        "outputId": "f9f6363a-041e-4579-9c6e-0a42d1b5f6c1"
      },
      "execution_count": 28,
      "outputs": [
        {
          "output_type": "stream",
          "name": "stdout",
          "text": [
            "Time taken to sort list of size 5000: 0.0016 seconds\n",
            "Time taken to sort list of size 10000: 0.0017 seconds\n",
            "Time taken to sort list of size 15000: 0.0028 seconds\n",
            "Time taken to sort list of size 20000: 0.0041 seconds\n",
            "Time taken to sort list of size 25000: 0.0052 seconds\n"
          ]
        },
        {
          "output_type": "display_data",
          "data": {
            "text/plain": [
              "<Figure size 1000x600 with 1 Axes>"
            ],
            "image/png": "[encoded data removed]"
          },
          "metadata": {}
        }
      ]
    },
    {
      "cell_type": "code",
      "source": [
        "student_marks = {\n",
        "    'Ram': [81, 72, 38, 90, 68],\n",
        "    'Jaanu': [98, 81, 85, 79, 83],\n",
        "    'Kathir': [92, 88, 84, 91, 87],\n",
        "    'Selvi': [65, 70, 72, 68, 66],\n",
        "    'John': [90, 94, 89, 93, 91]\n",
        "}\n",
        "\n",
        "def calculate_average(marks):\n",
        "    return sum(marks) / len(marks)\n",
        "\n",
        "average_marks = {student: calculate_average(marks) for student, marks in student_marks.items()}\n",
        "\n",
        "max_avg_student = max(average_marks, key=average_marks.get)\n",
        "max_avg_marks = average_marks[max_avg_student]\n",
        "\n",
        "min_avg_student = min(average_marks, key=average_marks.get)\n",
        "min_avg_marks = average_marks[min_avg_student]\n",
        "\n",
        "print(f\"Student with maximum average marks: {max_avg_student} ({max_avg_marks:.2f})\")\n",
        "print(f\"Student with minimum average marks: {min_avg_student} ({min_avg_marks:.2f})\")\n"
      ],
      "metadata": {
        "colab": {
          "base_uri": "https://localhost:8080/"
        },
        "id": "Hyl1tHOu4WWF",
        "outputId": "3f20af9d-6f15-469b-a951-b5452bd4c394"
      },
      "execution_count": 30,
      "outputs": [
        {
          "output_type": "stream",
          "name": "stdout",
          "text": [
            "Student with maximum average marks: John (91.40)\n",
            "Student with minimum average marks: Selvi (68.20)\n"
          ]
        }
      ]
    }
  ]
}