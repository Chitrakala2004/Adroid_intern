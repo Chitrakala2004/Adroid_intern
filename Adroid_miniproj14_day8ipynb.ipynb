{
  "nbformat": 4,
  "nbformat_minor": 0,
  "metadata": {
    "colab": {
      "provenance": [],
      "authorship_tag": "ABX9TyOXO7+tlCrOfZ/ikuc78nYV",
      "include_colab_link": true
    },
    "kernelspec": {
      "name": "python3",
      "display_name": "Python 3"
    },
    "language_info": {
      "name": "python"
    }
  },
  "cells": [
    {
      "cell_type": "markdown",
      "metadata": {
        "id": "view-in-github",
        "colab_type": "text"
      },
      "source": [
        "<a href=\"https://colab.research.google.com/github/Chitrakala2004/Adroid_intern/blob/main/Adroid_miniproj14_day8ipynb.ipynb\" target=\"_parent\"><img src=\"https://colab.research.google.com/assets/colab-badge.svg\" alt=\"Open In Colab\"/></a>"
      ]
    },
    {
      "cell_type": "code",
      "execution_count": 1,
      "metadata": {
        "colab": {
          "base_uri": "https://localhost:8080/"
        },
        "id": "RY9WBRRcmn7R",
        "outputId": "9f1af617-01fb-485c-98d3-d9273918794a"
      },
      "outputs": [
        {
          "output_type": "stream",
          "name": "stdout",
          "text": [
            "A: [2 1 2 3 2 9]\n",
            "B: [3 4 2 4 5 5]\n",
            "Cosine Similarity: 0.8188504723485274\n"
          ]
        }
      ],
      "source": [
        "# import required libraries\n",
        "import numpy as np\n",
        "from numpy.linalg import norm\n",
        "\n",
        "# define two lists or array\n",
        "A = np.array([2,1,2,3,2,9])\n",
        "B = np.array([3,4,2,4,5,5])\n",
        "\n",
        "print(\"A:\", A)\n",
        "print(\"B:\", B)\n",
        "\n",
        "# compute cosine similarity\n",
        "cosine = np.dot(A,B)/(norm(A)*norm(B))\n",
        "print(\"Cosine Similarity:\", cosine)\n"
      ]
    }
  ]
}