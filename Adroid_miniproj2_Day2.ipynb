{
  "nbformat": 4,
  "nbformat_minor": 0,
  "metadata": {
    "colab": {
      "provenance": [],
      "authorship_tag": "ABX9TyP3vKxUz47nfQ5ipXP9jnzu",
      "include_colab_link": true
    },
    "kernelspec": {
      "name": "python3",
      "display_name": "Python 3"
    },
    "language_info": {
      "name": "python"
    }
  },
  "cells": [
    {
      "cell_type": "markdown",
      "metadata": {
        "id": "view-in-github",
        "colab_type": "text"
      },
      "source": [
        "<a href=\"https://colab.research.google.com/github/Chitrakala2004/Adroid_intern/blob/main/Adroid_miniproj2_Day2.ipynb\" target=\"_parent\"><img src=\"https://colab.research.google.com/assets/colab-badge.svg\" alt=\"Open In Colab\"/></a>"
      ]
    },
    {
      "cell_type": "code",
      "execution_count": 8,
      "metadata": {
        "colab": {
          "base_uri": "https://localhost:8080/"
        },
        "id": "CkoAna5WBPoV",
        "outputId": "4213f143-aab1-45b8-8b37-ad6b4f005131"
      },
      "outputs": [
        {
          "output_type": "stream",
          "name": "stdout",
          "text": [
            "Product Sets:\n",
            "('P1', 'P2', 'P3', 'P4', 'P5')\n",
            "('P2', 'P3', 'P4', 'P5')\n",
            "('P1', 'P2', 'P3', 'P4')\n",
            "('P1', 'P2', 'P4', 'P5')\n",
            "('P2', 'P3', 'P4')\n",
            "('P2', 'P4', 'P5')\n",
            "('P3', 'P4', 'P5')\n",
            "('P1', 'P3', 'P4')\n",
            "('P1', 'P2', 'P3', 'P5')\n",
            "('P1', 'P2', 'P4')\n",
            "('P1', 'P4', 'P5')\n",
            "('P1', 'P3', 'P5')\n",
            "('P2', 'P3', 'P5')\n",
            "('P1', 'P2', 'P3')\n",
            "('P1', 'P3', 'P4', 'P5')\n",
            "('P1', 'P2', 'P5')\n"
          ]
        }
      ],
      "source": [
        "import itertools\n",
        "\n",
        "def read_product_list():\n",
        "    product_list = [\n",
        "        {'Pid': 'P1', 'Price': 64},\n",
        "        {'Pid': 'P2', 'Price': 88},\n",
        "        {'Pid': 'P3', 'Price': 152},\n",
        "        {'Pid': 'P4', 'Price': 93},\n",
        "        {'Pid': 'P5', 'Price': 76},\n",
        "    ]\n",
        "    return product_list\n",
        "\n",
        "def find_product_combos(product_list):\n",
        "    pids = [product['Pid'] for product in product_list]\n",
        "    min_size = 3\n",
        "    max_size = 6\n",
        "    combos = set()\n",
        "    for size in range(min_size, max_size + 1):\n",
        "        for combo in itertools.combinations(pids, size):\n",
        "            combos.add(combo)\n",
        "    return combos\n",
        "\n",
        "def main():\n",
        "    product_list = read_product_list()\n",
        "    product_combos = find_product_combos(product_list)\n",
        "    print(\"Product Sets:\")\n",
        "    for combo in product_combos:\n",
        "        print(combo)\n",
        "\n",
        "if __name__ == \"__main__\":\n",
        "    main()\n"
      ]
    }
  ]
}